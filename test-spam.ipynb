{
 "cells": [
  {
   "cell_type": "code",
   "execution_count": null,
   "metadata": {},
   "outputs": [],
   "source": [
    "import numpy as np\n",
    "import pandas as pd\n",
    "import matplotlib.pyplot as plt\n",
    "from classes.base import SMOTE"
   ]
  },
  {
   "cell_type": "code",
   "execution_count": null,
   "metadata": {},
   "outputs": [],
   "source": [
    "data_dict = {chr(97 + i): np.random.rand(20) for i in range(2)}\n",
    "data_dict['target'] = np.random.binomial(1, 0.3, size=(20))\n",
    "data_test = pd.DataFrame(data_dict)\n",
    "data_test.head(20)"
   ]
  },
  {
   "cell_type": "code",
   "execution_count": null,
   "metadata": {},
   "outputs": [],
   "source": [
    "np.unique(data_test['target'], return_counts=True)"
   ]
  },
  {
   "cell_type": "code",
   "execution_count": null,
   "metadata": {},
   "outputs": [],
   "source": [
    "data_test[:].values[0][:2]\n"
   ]
  },
  {
   "cell_type": "code",
   "execution_count": null,
   "metadata": {},
   "outputs": [],
   "source": [
    "smote_test = SMOTE(k_neighbors=3)\n",
    "smote_test.__dict__"
   ]
  },
  {
   "cell_type": "code",
   "execution_count": null,
   "metadata": {},
   "outputs": [],
   "source": [
    "plt.scatter(data_test['a'], data_test['b'], c=data_test['target'], cmap='bwr')\n",
    "\n",
    "# Agregar etiquetas y título\n",
    "plt.xlabel('a')\n",
    "plt.ylabel('b')\n",
    "plt.title('Scatter Plot')\n",
    "\n",
    "# Mostrar el gráfico\n",
    "plt.show()"
   ]
  },
  {
   "cell_type": "code",
   "execution_count": null,
   "metadata": {},
   "outputs": [],
   "source": [
    "smote_test.fit(data_test.copy(), 'target')\n",
    "new_samples = smote_test.resample(80)\n",
    "data_test = pd.concat([data_test, new_samples], ignore_index=True)\n",
    "data_test.shape"
   ]
  },
  {
   "cell_type": "code",
   "execution_count": null,
   "metadata": {},
   "outputs": [],
   "source": [
    "plt.scatter(data_test['a'], data_test['b'], c=data_test['target'], cmap='bwr')\n",
    "\n",
    "# Agregar etiquetas y título\n",
    "plt.xlabel('a')\n",
    "plt.ylabel('b')\n",
    "plt.title('Scatter Plot')\n",
    "\n",
    "# Mostrar el gráfico\n",
    "plt.show()"
   ]
  }
 ],
 "metadata": {
  "kernelspec": {
   "display_name": "Python 3",
   "language": "python",
   "name": "python3"
  },
  "language_info": {
   "codemirror_mode": {
    "name": "ipython",
    "version": 3
   },
   "file_extension": ".py",
   "mimetype": "text/x-python",
   "name": "python",
   "nbconvert_exporter": "python",
   "pygments_lexer": "ipython3",
   "version": "3.10.1"
  },
  "orig_nbformat": 4
 },
 "nbformat": 4,
 "nbformat_minor": 2
}
